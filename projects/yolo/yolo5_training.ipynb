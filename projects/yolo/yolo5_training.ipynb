{
 "cells": [
  {
   "cell_type": "code",
   "execution_count": 1,
   "id": "informal-arthritis",
   "metadata": {},
   "outputs": [],
   "source": [
    "import cv2 as cv\n",
    "import numpy as np\n",
    "import importlib\n",
    "import copy\n",
    "import os\n",
    "import torch\n",
    "\n",
    "import os\n",
    "\n",
    "import matplotlib.pyplot as plt\n",
    "import matplotlib\n",
    "from matplotlib import colors\n",
    "plt.style.use('seaborn-whitegrid')\n",
    "\n",
    "#To run project notebooks in subfolders as from root folder\n",
    "import sys\n",
    "sys.path.append('../../')\n",
    "\n",
    "###Import self-written library\n",
    "import featexlib\n",
    "from featexlib import Debug as dbug\n",
    "from featexlib import *\n",
    "\n",
    "\n",
    "%matplotlib inline"
   ]
  }
 ],
 "metadata": {
  "kernelspec": {
   "display_name": "Python 3.8.10 64-bit ('ml': virtualenv)",
   "language": "python",
   "name": "python3810jvsc74a57bd0dc82ead4c62a35bcb20a9652e8347636ec0abea421af53a693432c8087654816"
  },
  "language_info": {
   "codemirror_mode": {
    "name": "ipython",
    "version": 3
   },
   "file_extension": ".py",
   "mimetype": "text/x-python",
   "name": "python",
   "nbconvert_exporter": "python",
   "pygments_lexer": "ipython3",
   "version": "3.8.10"
  }
 },
 "nbformat": 4,
 "nbformat_minor": 5
}
