{
 "cells": [
  {
   "cell_type": "code",
   "execution_count": 6,
   "metadata": {},
   "outputs": [],
   "source": [
    "import cv2 as cv\n",
    "from tensorflow.python.eager import backprop\n",
    "from tensorflow.python.keras.engine import data_adapter\n",
    "from tensorflow.python.keras.mixed_precision.experimental import loss_scale_optimizer as lso\n",
    "from tensorflow.python.distribute import parameter_server_strategy\n",
    "import tensorflow as tf\n",
    "import pandas as pd\n",
    "import numpy as np\n",
    "import pickle\n",
    "\n",
    "import importlib\n",
    "import copy\n",
    "\n",
    "import os\n",
    "\n",
    "%matplotlib inline\n",
    "import matplotlib.pyplot as plt\n",
    "import matplotlib\n",
    "from matplotlib import colors\n",
    "plt.style.use('seaborn-whitegrid')\n",
    "\n",
    "import time\n",
    "import threading\n",
    "try:\n",
    "    from greenlet import getcurrent as get_ident\n",
    "except ImportError:\n",
    "    try:\n",
    "        from thread import get_ident\n",
    "    except ImportError:\n",
    "        from _thread import get_ident\n",
    "        \n",
    "###Import self-written library\n",
    "import featexlib.debug as dbug\n",
    "import featexlib.datagen as dgen"
   ]
  },
  {
   "cell_type": "code",
   "execution_count": 23,
   "metadata": {},
   "outputs": [],
   "source": [
    "class CameraEvent(object):\n",
    "    \"\"\"An Event-like class that signals all active clients when a new frame is\n",
    "    available.\n",
    "    \"\"\"\n",
    "    def __init__(self):\n",
    "        self.events = {}\n",
    "\n",
    "    def wait(self):\n",
    "        \"\"\"Invoked from each client's thread to wait for the next frame.\"\"\"\n",
    "        ident = get_ident()\n",
    "        if ident not in self.events:\n",
    "            # this is a new client\n",
    "            # add an entry for it in the self.events dict\n",
    "            # each entry has two elements, a threading.Event() and a timestamp\n",
    "            self.events[ident] = [threading.Event(), time.time()]\n",
    "        return self.events[ident][0].wait()\n",
    "\n",
    "    def set(self):\n",
    "        \"\"\"Invoked by the camera thread when a new frame is available.\"\"\"\n",
    "        now = time.time()\n",
    "        remove = None\n",
    "        for ident, event in self.events.items():\n",
    "            if not event[0].isSet():\n",
    "                # if this client's event is not set, then set it\n",
    "                # also update the last set timestamp to now\n",
    "                event[0].set()\n",
    "                event[1] = now\n",
    "            else:\n",
    "                # if the client's event is already set, it means the client\n",
    "                # did not process a previous frame\n",
    "                # if the event stays set for more than 5 seconds, then assume\n",
    "                # the client is gone and remove it\n",
    "                if now - event[1] > 5:\n",
    "                    remove = ident\n",
    "        if remove:\n",
    "            del self.events[remove]\n",
    "\n",
    "    def clear(self):\n",
    "        \"\"\"Invoked from each client's thread after a frame was processed.\"\"\"\n",
    "        self.events[get_ident()][0].clear()\n",
    "        \n",
    "        \n",
    "class BaseCamera(object):\n",
    "    thread = None  # background thread that reads frames from camera\n",
    "    frame = None  # current frame is stored here by background thread\n",
    "    last_access = 0  # time of last client access to the camera\n",
    "    event = CameraEvent()\n",
    "\n",
    "    def __init__(self):\n",
    "        \"\"\"Start the background camera thread if it isn't running yet.\"\"\"\n",
    "        if BaseCamera.thread is None:\n",
    "            BaseCamera.last_access = time.time()\n",
    "\n",
    "            # start background frame thread\n",
    "            BaseCamera.thread = threading.Thread(target=self._thread)\n",
    "            BaseCamera.thread.start()\n",
    "\n",
    "            # wait until frames are available\n",
    "            while self.get_frame() is None:\n",
    "                time.sleep(0)\n",
    "\n",
    "    def get_frame(self):\n",
    "        \"\"\"Return the current camera frame.\"\"\"\n",
    "        BaseCamera.last_access = time.time()\n",
    "\n",
    "        # wait for a signal from the camera thread\n",
    "        BaseCamera.event.wait()\n",
    "        BaseCamera.event.clear()\n",
    "\n",
    "        return BaseCamera.frame\n",
    "\n",
    "    @staticmethod\n",
    "    def frames():\n",
    "        \"\"\"\"Generator that returns frames from the camera.\"\"\"\n",
    "        raise RuntimeError('Must be implemented by subclasses.')\n",
    "\n",
    "    @classmethod\n",
    "    def _thread(cls):\n",
    "        \"\"\"Camera background thread.\"\"\"\n",
    "        print('Starting camera thread.')\n",
    "        frames_iterator = cls.frames()\n",
    "        for frame in frames_iterator:\n",
    "            BaseCamera.frame = frame\n",
    "            BaseCamera.event.set()  # send signal to clients\n",
    "            time.sleep(0)\n",
    "\n",
    "            # if there hasn't been any clients asking for frames in\n",
    "            # the last 10 seconds then stop the thread\n",
    "            if time.time() - BaseCamera.last_access > 10:\n",
    "                frames_iterator.close()\n",
    "                print('Stopping camera thread due to inactivity.')\n",
    "                break\n",
    "        BaseCamera.thread = None\n",
    "        \n",
    "\n",
    "class Camera_compare(BaseCamera):\n",
    "    video_source = 0\n",
    "\n",
    "    @staticmethod\n",
    "    def frames():\n",
    "        camera = cv.VideoCapture(gstreamer_pipeline(flip_method=2), cv.CAP_GSTREAMER)\n",
    "        \n",
    "        if not camera.isOpened():\n",
    "            raise RuntimeError('Could not start camera.')\n",
    "        \n",
    "        while True:\n",
    "            # read current frame\n",
    "            _, frame = camera.read()\n",
    "\n",
    "            # Convert the image from BGR color (which OpenCV uses) to RGB color (which face_recognition uses)\n",
    "            #rgb_frame = frame[:, :, ::-1]  \n",
    "            yield frame\n",
    "\n",
    "            \n",
    "def gstreamer_pipeline(\n",
    "    capture_width=816,\n",
    "    capture_height=616,\n",
    "    display_width=816,\n",
    "    display_height=616,\n",
    "    framerate=20,\n",
    "    flip_method=2,\n",
    "):\n",
    "    return (\n",
    "        \"nvarguscamerasrc ! \"\n",
    "        \"video/x-raw(memory:NVMM), \"\n",
    "        \"width=(int)%d, height=(int)%d, \"\n",
    "        \"format=(string)NV12, framerate=(fraction)%d/1 ! \"\n",
    "        \"nvvidconv flip-method=%d ! \"\n",
    "        \"video/x-raw, width=(int)%d, height=(int)%d, format=(string)BGRx ! \"\n",
    "        \"videoconvert ! \"\n",
    "        \"video/x-raw, format=(string)BGR ! appsink\"\n",
    "        % (\n",
    "            capture_width,\n",
    "            capture_height,\n",
    "            framerate,\n",
    "            flip_method,\n",
    "            display_width,\n",
    "            display_height,\n",
    "        )\n",
    "    )"
   ]
  },
  {
   "cell_type": "code",
   "execution_count": 24,
   "metadata": {},
   "outputs": [
    {
     "name": "stdout",
     "output_type": "stream",
     "text": [
      "Starting camera thread.\n"
     ]
    },
    {
     "data": {
      "image/png": "[encoded data removed]",
      "text/plain": [
       "<Figure size 1080x144 with 1 Axes>"
      ]
     },
     "metadata": {},
     "output_type": "display_data"
    },
    {
     "name": "stdout",
     "output_type": "stream",
     "text": [
      "Stopping camera thread due to inactivity.\n"
     ]
    }
   ],
   "source": [
    "camera = Camera_compare()\n",
    "frames = []\n",
    "for i in range(1):\n",
    "    frames.append(camera.get_frame())\n",
    "\n",
    "dbug.Debug.show_images_list(frames, col_number = 4, height=2)    "
   ]
  },
  {
   "cell_type": "code",
   "execution_count": 9,
   "metadata": {},
   "outputs": [],
   "source": []
  },
  {
   "cell_type": "code",
   "execution_count": 13,
   "metadata": {},
   "outputs": [
    {
     "name": "stdout",
     "output_type": "stream",
     "text": [
      "nvarguscamerasrc ! video/x-raw(memory:NVMM), width=(int)816, height=(int)616, format=(string)NV12, framerate=(fraction)20/1 ! nvvidconv flip-method=2 ! video/x-raw, width=(int)816, height=(int)616, format=(string)BGRx ! videoconvert ! video/x-raw, format=(string)BGR ! appsink\n"
     ]
    }
   ],
   "source": [
    "print(gstreamer_pipeline(flip_method=2))\n",
    "\n",
    "cap = cv.VideoCapture(gstreamer_pipeline(flip_method=2), cv.CAP_GSTREAMER)\n",
    "if cap.isOpened():\n",
    "    ret_val, img = cap.read()\n",
    "    cap.release()\n",
    "else:\n",
    "    print(\"Unable to open camera\")\n",
    "\n",
    "    \n",
    "   "
   ]
  },
  {
   "cell_type": "code",
   "execution_count": 14,
   "metadata": {},
   "outputs": [
    {
     "data": {
      "image/png": "[encoded data removed]",
      "text/plain": [
       "<Figure size 1080x144 with 1 Axes>"
      ]
     },
     "metadata": {},
     "output_type": "display_data"
    }
   ],
   "source": [
    "dbug.Debug.show_images_list([img], col_number = 4, height=2)  "
   ]
  },
  {
   "cell_type": "code",
   "execution_count": 2,
   "metadata": {},
   "outputs": [],
   "source": [
    "camera = cv.VideoCapture(0)\n",
    "if not camera.isOpened():\n",
    "    raise RuntimeError('Could not start camera.')\n",
    "_, frame = camera.read()\n",
    "\n",
    "frame = cv.resize(frame, (640,480), interpolation = cv.INTER_AREA) \n"
   ]
  },
  {
   "cell_type": "code",
   "execution_count": 4,
   "metadata": {},
   "outputs": [
    {
     "data": {
      "image/png": "[encoded data removed]",
      "text/plain": [
       "<Figure size 1080x144 with 1 Axes>"
      ]
     },
     "metadata": {},
     "output_type": "display_data"
    }
   ],
   "source": [
    "dbug.Debug.show_images_list([frame], col_number = 4, height=2) "
   ]
  }
 ],
 "metadata": {
  "kernelspec": {
   "display_name": "Python 3",
   "language": "python",
   "name": "python3"
  },
  "language_info": {
   "codemirror_mode": {
    "name": "ipython",
    "version": 3
   },
   "file_extension": ".py",
   "mimetype": "text/x-python",
   "name": "python",
   "nbconvert_exporter": "python",
   "pygments_lexer": "ipython3",
   "version": "3.6.9"
  }
 },
 "nbformat": 4,
 "nbformat_minor": 4
}
